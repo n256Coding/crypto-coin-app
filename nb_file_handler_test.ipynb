{
 "cells": [
  {
   "cell_type": "code",
   "execution_count": 2,
   "metadata": {},
   "outputs": [
    {
     "name": "stdout",
     "output_type": "stream",
     "text": [
      "services\n",
      "['__pycache__']\n",
      "['arima_forecasting.py', 'file_handler.py', 'lstm_service.py', 'main_service.py', 'neuralprophet_service.py', 'prophet_service.py']\n",
      "services\\__pycache__\n",
      "[]\n",
      "['arima_forecasting.cpython-310.pyc', 'arima_forecasting.cpython-311.pyc', 'file_handler.cpython-311.pyc', 'lstm_service.cpython-311.pyc', 'main_service.cpython-310.pyc', 'main_service.cpython-311.pyc', 'neuralprophet_service.cpython-311.pyc', 'prophet_service.cpython-311.pyc']\n"
     ]
    }
   ],
   "source": [
    "import os\n",
    "\n",
    "for (root, dirs, files) in os.walk('services'):\n",
    "    print(root)\n",
    "    print(dirs)\n",
    "    print(files)"
   ]
  }
 ],
 "metadata": {
  "kernelspec": {
   "display_name": "com724",
   "language": "python",
   "name": "python3"
  },
  "language_info": {
   "codemirror_mode": {
    "name": "ipython",
    "version": 3
   },
   "file_extension": ".py",
   "mimetype": "text/x-python",
   "name": "python",
   "nbconvert_exporter": "python",
   "pygments_lexer": "ipython3",
   "version": "3.11.7"
  }
 },
 "nbformat": 4,
 "nbformat_minor": 2
}
