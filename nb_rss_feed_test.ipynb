{
 "cells": [
  {
   "cell_type": "code",
   "execution_count": 12,
   "metadata": {},
   "outputs": [],
   "source": [
    "from rss_parser import RSSParser\n",
    "from requests import get\n",
    "import pandas as pd\n",
    "\n",
    "rss_url = \"https://search.cnbc.com/rs/search/combinedcms/view.xml?partnerId=wrss01&id=15839069\"\n",
    "response = get(rss_url)\n",
    "\n",
    "rss = RSSParser.parse(response.text)\n",
    "\n",
    "# Print out rss meta data\n",
    "# print(\"Language\", rss.channel.language)\n",
    "# print(\"RSS\", rss.version)\n",
    "\n",
    "# latest_rss_feeds = [f'{item.title.content}\\n{item.link.content}' for item in rss.channel.items]\n",
    "\n",
    "# dataframe = pd.DataFrame({\n",
    "#     'feeds': latest_rss_feeds\n",
    "# })"
   ]
  },
  {
   "cell_type": "code",
   "execution_count": 13,
   "metadata": {},
   "outputs": [
    {
     "data": {
      "text/plain": [
       "Tag[Item](content=Item(author=None, category=None, comments=None, enclosure=None, guid=Tag[str](content='107407181', attributes={'is_perma_link': 'false'}), pub_date=Tag[str](content='Sat, 27 Apr 2024 13:46:43 GMT', attributes={}), source=None, title=Tag[str](content='Activist Jana Partners calls for a strategic review at Wolfspeed. Here’s how it may develop', attributes={}), link=Tag[str](content='https://www.cnbc.com/2024/04/27/activist-jana-partners-calls-for-a-strategic-review-at-wolfspeed-heres-how-it-may-develop.html', attributes={}), description=Tag[str](content='Activist investor Jana Partners recently disclosed a stake in the semiconductor company.', attributes={})), attributes={})"
      ]
     },
     "execution_count": 13,
     "metadata": {},
     "output_type": "execute_result"
    }
   ],
   "source": [
    "rss.channel.items[0]"
   ]
  }
 ],
 "metadata": {
  "kernelspec": {
   "display_name": "com724",
   "language": "python",
   "name": "python3"
  },
  "language_info": {
   "codemirror_mode": {
    "name": "ipython",
    "version": 3
   },
   "file_extension": ".py",
   "mimetype": "text/x-python",
   "name": "python",
   "nbconvert_exporter": "python",
   "pygments_lexer": "ipython3",
   "version": "3.11.7"
  }
 },
 "nbformat": 4,
 "nbformat_minor": 2
}
